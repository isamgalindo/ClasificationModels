{
 "cells": [
  {
   "cell_type": "markdown",
   "metadata": {},
   "source": [
    "# 1.Setup & Imports\n",
    "Setting all properties and imports necessaries for the model"
   ]
  },
  {
   "cell_type": "code",
   "execution_count": 75,
   "metadata": {},
   "outputs": [],
   "source": [
    "import pandas as pd\n",
    "import numpy as np\n",
    "import re\n",
    "\n",
    "%matplotlib inline"
   ]
  },
  {
   "cell_type": "code",
   "execution_count": 76,
   "metadata": {},
   "outputs": [],
   "source": [
    "pd.set_option('display.max_columns', None)\n",
    "pd.set_option('display.max_rows', 50)"
   ]
  },
  {
   "cell_type": "markdown",
   "metadata": {},
   "source": [
    "# 2.Data read\n",
    "Reading all data using pandas"
   ]
  },
  {
   "cell_type": "code",
   "execution_count": 77,
   "metadata": {},
   "outputs": [
    {
     "data": {
      "text/plain": [
       "(67500, 19)"
      ]
     },
     "execution_count": 77,
     "metadata": {},
     "output_type": "execute_result"
    }
   ],
   "source": [
    "data = pd.read_csv('./data/heart_disease_data.csv', sep = ',', encoding= 'utf-8')\n",
    "data.shape"
   ]
  },
  {
   "cell_type": "code",
   "execution_count": 78,
   "metadata": {},
   "outputs": [],
   "source": [
    "data = data.drop_duplicates()\n"
   ]
  },
  {
   "cell_type": "markdown",
   "metadata": {},
   "source": [
    "BMI Fix"
   ]
  },
  {
   "cell_type": "code",
   "execution_count": 79,
   "metadata": {},
   "outputs": [],
   "source": [
    "#Filling NA values with 0.0\n",
    "data['BMI'] = data['BMI'].fillna('0.0')\n",
    "#Extracting all numeric float numbers\n",
    "data['BMI'] = data['BMI'].str.extract('(\\d+\\.\\d+)')\n",
    "#Converting to floar\n",
    "data['BMI'] = data['BMI'].astype(float)\n",
    "#Replacing NA values replaced as 0.0 to the mean of the column\n",
    "data['BMI'].replace(to_replace= 0.0, value = data['BMI'].mean(), inplace= True)"
   ]
  },
  {
   "cell_type": "code",
   "execution_count": 80,
   "metadata": {},
   "outputs": [],
   "source": [
    "#Changes the values from 'Yes' or 'No' to True or False\n",
    "def fixing_boolean_columns(data):\n",
    "    if( 'Yes' in data or 'yes' in data ):\n",
    "        return True\n",
    "    elif( 'No' in data or 'no' in data ):\n",
    "        return False\n",
    "    else:\n",
    "        return False"
   ]
  },
  {
   "cell_type": "markdown",
   "metadata": {},
   "source": [
    "Smoking Fix"
   ]
  },
  {
   "cell_type": "code",
   "execution_count": 81,
   "metadata": {},
   "outputs": [],
   "source": [
    "#Filling NA with False assuming that he/she doesn't smoke\n",
    "data['Smoking'] = data['Smoking'].fillna('No')\n",
    "#Applies the function to the column\n",
    "data['Smoking'] = data['Smoking'].apply(fixing_boolean_columns)"
   ]
  },
  {
   "cell_type": "markdown",
   "metadata": {},
   "source": [
    "AlcoholDrinking Fix"
   ]
  },
  {
   "cell_type": "code",
   "execution_count": 82,
   "metadata": {},
   "outputs": [],
   "source": [
    "#Filling NA with False assuming that he/she doesn't drink\n",
    "data['AlcoholDrinking'] = data['AlcoholDrinking'].fillna('No')\n",
    "#Applies the function to the column\n",
    "data['AlcoholDrinking'] = data['AlcoholDrinking'].apply(fixing_boolean_columns)\n"
   ]
  },
  {
   "cell_type": "markdown",
   "metadata": {},
   "source": [
    "Stroke Fix"
   ]
  },
  {
   "cell_type": "code",
   "execution_count": 83,
   "metadata": {},
   "outputs": [],
   "source": [
    "#Filling NA with False assuming that he/she doesn't stroke\n",
    "data['Stroke'] = data['Stroke'].fillna('No')\n",
    "#Applies the function to the column\n",
    "data['Stroke'] = data['Stroke'].apply(fixing_boolean_columns)"
   ]
  },
  {
   "cell_type": "markdown",
   "metadata": {},
   "source": [
    "PhysicalHealth Fix"
   ]
  },
  {
   "cell_type": "code",
   "execution_count": 84,
   "metadata": {},
   "outputs": [],
   "source": [
    "data['PhysicalHealth'] = data['PhysicalHealth'].str.extract('(\\d+)')\n",
    "data['PhysicalHealth'] = data['PhysicalHealth'].astype(int)\n",
    "def fixing_physical_health(n):\n",
    "    if(n > 30):\n",
    "        return data['PhysicalHealth'].median()\n",
    "    else:\n",
    "        return n\n",
    "data['PhysicalHealth'] = data['PhysicalHealth'].apply(fixing_physical_health)\n",
    "data['PhysicalHealth'] = data['PhysicalHealth'].astype(int)"
   ]
  },
  {
   "cell_type": "markdown",
   "metadata": {},
   "source": [
    "MentalHealth Fix"
   ]
  },
  {
   "cell_type": "code",
   "execution_count": 85,
   "metadata": {},
   "outputs": [],
   "source": [
    "data['MentalHealth'] = data['MentalHealth'].str.extract('(\\d+)')\n",
    "data['MentalHealth'] = data['MentalHealth'].astype(int)\n",
    "def fixing_mental_health(n):\n",
    "    if(n > 30):\n",
    "        return data['MentalHealth'].median()\n",
    "    else:\n",
    "        return n\n",
    "data['MentalHealth'] = data['MentalHealth'].apply(fixing_mental_health)\n",
    "data['MentalHealth'] = data['MentalHealth'].astype(int)"
   ]
  },
  {
   "cell_type": "markdown",
   "metadata": {},
   "source": [
    "DiffWalking Fix"
   ]
  },
  {
   "cell_type": "code",
   "execution_count": 86,
   "metadata": {},
   "outputs": [],
   "source": [
    "#Filling NA with False assuming that he/she doesn't Diff Walking\n",
    "data['DiffWalking'] = data['DiffWalking'].fillna('No')\n",
    "#Applies the function to the column\n",
    "data['DiffWalking'] = data['DiffWalking'].apply(fixing_boolean_columns)"
   ]
  },
  {
   "cell_type": "markdown",
   "metadata": {},
   "source": [
    "Sex Fix"
   ]
  },
  {
   "cell_type": "code",
   "execution_count": 87,
   "metadata": {},
   "outputs": [
    {
     "data": {
      "text/plain": [
       "array(['Male', 'Female'], dtype=object)"
      ]
     },
     "execution_count": 87,
     "metadata": {},
     "output_type": "execute_result"
    }
   ],
   "source": [
    "data['Sex'].isnull().sum()\n",
    "def fixing_sex(data):\n",
    "    if( 'Female' in data or 'female' in data ):\n",
    "        return 'Female'\n",
    "    elif( 'Male' in data or 'male' in data ):\n",
    "        return 'Male'\n",
    "    else:\n",
    "        return np.NaN\n",
    "data.dropna(subset = ['Sex'], inplace= True)\n",
    "data['Sex'] = data['Sex'].apply(fixing_sex)\n",
    "data.dropna(subset = ['Sex'], inplace= True)\n",
    "data['Sex'].unique()"
   ]
  },
  {
   "cell_type": "markdown",
   "metadata": {},
   "source": [
    "Age Category Fix"
   ]
  },
  {
   "cell_type": "code",
   "execution_count": 88,
   "metadata": {},
   "outputs": [],
   "source": [
    "def change_age_category(data):\n",
    "    if( data == 'or older 80'):\n",
    "        return '80 or older'\n",
    "    else:\n",
    "        return data\n",
    "data['AgeCategory'] = data['AgeCategory'].apply(change_age_category)\n",
    "age_ranges = data['AgeCategory'].unique()\n",
    "for e in age_ranges:\n",
    "    if( e != '80 or older'):\n",
    "        if(int(e.split('-')[1]) < 50):\n",
    "            data.drop(data[data['AgeCategory'] == e].index, inplace= True)\n",
    "    "
   ]
  },
  {
   "cell_type": "markdown",
   "metadata": {},
   "source": [
    "Race Fixing"
   ]
  },
  {
   "cell_type": "code",
   "execution_count": 89,
   "metadata": {},
   "outputs": [],
   "source": [
    "data[\"Race\"] = data[\"Race\"].fillna(\"Other\")\n",
    "def fixing_race(row):\n",
    "    if \"White\" in row or \"white\" in row:\n",
    "        return \"White\"\n",
    "    elif \"Hispanic\" in row or \"hispanic\" in row:\n",
    "        return \"Hispanic\"\n",
    "    elif \"Black\" in row or \"black\" in row:\n",
    "        return \"Black\"\n",
    "    elif \"Asian\" in row or \"asian\" in row:\n",
    "        return \"Asian\"\n",
    "    else:\n",
    "        return \"Other\"\n",
    "data['Race'] = data['Race'].apply(fixing_race)"
   ]
  },
  {
   "cell_type": "markdown",
   "metadata": {},
   "source": [
    "Diabetic Fixing"
   ]
  },
  {
   "cell_type": "code",
   "execution_count": 90,
   "metadata": {},
   "outputs": [],
   "source": [
    "data[\"Diabetic\"] = data[\"Diabetic\"].fillna(\"No\")\n",
    "def fixing_diabetic(row):\n",
    "    if \"Yes (during pregnancy)\" in row:\n",
    "        return \"Yes (during pregnancy)\"\n",
    "    elif \"No, borderline diabetes\" in row:\n",
    "        return \"No, borderline diabetes\"\n",
    "    elif \"No\" in row or \"no\" in row:\n",
    "        return \"No\"\n",
    "    elif \"Yes\" in row or \"yes\" in row:\n",
    "        return \"Yes\"\n",
    "    else:\n",
    "        return \"No\"\n",
    "data['Diabetic'] = data['Diabetic'].apply(fixing_diabetic)"
   ]
  },
  {
   "cell_type": "markdown",
   "metadata": {},
   "source": [
    "Physical Activity fix"
   ]
  },
  {
   "cell_type": "code",
   "execution_count": 91,
   "metadata": {},
   "outputs": [],
   "source": [
    "#Filling NA with False assuming that he/she doesn't do excercise\n",
    "data['PhysicalActivity'] = data['PhysicalActivity'].fillna('No')\n",
    "#Applies the function to the column\n",
    "data['PhysicalActivity'] = data['PhysicalActivity'].apply(fixing_boolean_columns)"
   ]
  },
  {
   "cell_type": "markdown",
   "metadata": {},
   "source": [
    "GenHealth fix"
   ]
  },
  {
   "cell_type": "code",
   "execution_count": 92,
   "metadata": {},
   "outputs": [],
   "source": [
    "data[\"GenHealth\"] = data[\"GenHealth\"].fillna(\"Fair\")\n",
    "def fixing_gen_health(row):\n",
    "    if \"Very good\" in row:\n",
    "        return \"Very good\"\n",
    "    elif \"Good\" in row:\n",
    "        return \"Good\"\n",
    "    elif \"Excellent\" in row:\n",
    "        return \"Excellent\"\n",
    "    elif \"Fair\" in row:\n",
    "        return \"Fair\"\n",
    "    elif \"Poor\" in row:\n",
    "        return \"Poor\"\n",
    "    else:\n",
    "        return \"Fair\"\n",
    "data['GenHealth'] = data['GenHealth'].apply(fixing_gen_health)"
   ]
  },
  {
   "cell_type": "markdown",
   "metadata": {},
   "source": [
    "SleepTime fix"
   ]
  },
  {
   "cell_type": "code",
   "execution_count": 93,
   "metadata": {},
   "outputs": [],
   "source": [
    "data['SleepTime'] = data['SleepTime'].fillna('0.0')\n",
    "data['SleepTime'] = data['SleepTime'].astype(float)\n",
    "mean = data['SleepTime'].mean()\n",
    "def fixing_negatives_sleeptime(row):\n",
    "    if row < 0:\n",
    "        return row * -1\n",
    "    elif row > 24:\n",
    "        return mean\n",
    "    else:\n",
    "        return row\n",
    "data['SleepTime'] = data['SleepTime'].apply(fixing_negatives_sleeptime)\n",
    "data['SleepTime'].replace(to_replace= 0.0, value = mean, inplace= True)"
   ]
  },
  {
   "cell_type": "markdown",
   "metadata": {},
   "source": [
    "Asthma fix"
   ]
  },
  {
   "cell_type": "code",
   "execution_count": 94,
   "metadata": {},
   "outputs": [],
   "source": [
    "#Filling NA with False assuming that he/she doesn't have asthma\n",
    "data['Asthma'] = data['Asthma'].fillna('No')\n",
    "#Applies the function to the column\n",
    "data['Asthma'] = data['Asthma'].apply(fixing_boolean_columns)"
   ]
  },
  {
   "cell_type": "markdown",
   "metadata": {},
   "source": [
    "KidneyDisease fix"
   ]
  },
  {
   "cell_type": "code",
   "execution_count": 95,
   "metadata": {},
   "outputs": [],
   "source": [
    "#Filling NA with False assuming that he/she doesn't have kidnet disease\n",
    "data['KidneyDisease'] = data['KidneyDisease'].fillna('No')\n",
    "#Applies the function to the column\n",
    "data['KidneyDisease'] = data['KidneyDisease'].apply(fixing_boolean_columns)"
   ]
  },
  {
   "cell_type": "markdown",
   "metadata": {},
   "source": [
    "SkinCancer fix"
   ]
  },
  {
   "cell_type": "code",
   "execution_count": 96,
   "metadata": {},
   "outputs": [],
   "source": [
    "#Filling NA with False assuming that he/she doesn't have skin cancer\n",
    "data['SkinCancer'] = data['SkinCancer'].fillna('No')\n",
    "#Applies the function to the column\n",
    "data['SkinCancer'] = data['SkinCancer'].apply(fixing_boolean_columns)"
   ]
  },
  {
   "cell_type": "markdown",
   "metadata": {},
   "source": [
    "HeartDisease fix"
   ]
  },
  {
   "cell_type": "code",
   "execution_count": 97,
   "metadata": {},
   "outputs": [],
   "source": [
    "\n",
    "#Changes the values from 'Yes' or 'No' to True or False\n",
    "def fixing_boolean_columns2(data):\n",
    "    if( 'Yes' in data or 'yes' in data ):\n",
    "        return True\n",
    "    elif( 'No' in data or 'no' in data ):\n",
    "        return False\n",
    "    else:\n",
    "        return True\n",
    "\n",
    "#Filling NA with False assuming that he/she doesn't have hearth disease\n",
    "data['HeartDisease'] = data['HeartDisease'].fillna('Yes')\n",
    "#Applies the function to the column\n",
    "data['HeartDisease'] = data['HeartDisease'].apply(fixing_boolean_columns2)"
   ]
  },
  {
   "cell_type": "code",
   "execution_count": 98,
   "metadata": {},
   "outputs": [
    {
     "data": {
      "text/plain": [
       "(40604, 19)"
      ]
     },
     "execution_count": 98,
     "metadata": {},
     "output_type": "execute_result"
    }
   ],
   "source": [
    "#Convert columns to best possible dtypes using dtypes supporting\n",
    "data = data.convert_dtypes()\n",
    "data.shape"
   ]
  },
  {
   "cell_type": "code",
   "execution_count": 99,
   "metadata": {},
   "outputs": [],
   "source": [
    "data.to_csv('./data/heart_disease_data_clean.csv', encoding='utf-8', index= False)"
   ]
  },
  {
   "cell_type": "code",
   "execution_count": null,
   "metadata": {},
   "outputs": [],
   "source": []
  }
 ],
 "metadata": {
  "kernelspec": {
   "display_name": "Python 3.8.5 64-bit",
   "language": "python",
   "name": "python3"
  },
  "language_info": {
   "codemirror_mode": {
    "name": "ipython",
    "version": 3
   },
   "file_extension": ".py",
   "mimetype": "text/x-python",
   "name": "python",
   "nbconvert_exporter": "python",
   "pygments_lexer": "ipython3",
   "version": "3.8.5"
  },
  "orig_nbformat": 4,
  "vscode": {
   "interpreter": {
    "hash": "082e9a3bcad0a290d0001e938aa60b99250c6c2ef33a923c00b70f9826caf4b7"
   }
  }
 },
 "nbformat": 4,
 "nbformat_minor": 2
}
